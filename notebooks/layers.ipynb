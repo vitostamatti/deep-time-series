{
 "cells": [
  {
   "cell_type": "code",
   "execution_count": 1,
   "metadata": {},
   "outputs": [],
   "source": [
    "import sys\n",
    "import os\n",
    "os.chdir('../')\n",
    "sys.path.append('.')"
   ]
  },
  {
   "cell_type": "code",
   "execution_count": 2,
   "metadata": {},
   "outputs": [],
   "source": [
    "from src.autoencoder import Encoder, Decoder, EncoderDecoder"
   ]
  },
  {
   "cell_type": "code",
   "execution_count": 3,
   "metadata": {},
   "outputs": [],
   "source": [
    "import tensorflow as tf\n",
    "from tensorflow import keras\n",
    "import numpy as np"
   ]
  },
  {
   "cell_type": "code",
   "execution_count": 4,
   "metadata": {},
   "outputs": [],
   "source": [
    "def temporalize(X, y, timesteps):\n",
    "    output_X = []\n",
    "    output_y = []\n",
    "    for i in range(len(X)-timesteps-1):\n",
    "        t = []\n",
    "        for j in range(1,timesteps+1):\n",
    "            # Gather past records upto the lookback period\n",
    "            t.append(X[[(i+j+1)], :])\n",
    "        output_X.append(t)\n",
    "        output_y.append(y[i+timesteps+1])\n",
    "    return output_X, output_y"
   ]
  },
  {
   "cell_type": "code",
   "execution_count": 5,
   "metadata": {},
   "outputs": [
    {
     "data": {
      "text/plain": [
       "(9, 2)"
      ]
     },
     "execution_count": 5,
     "metadata": {},
     "output_type": "execute_result"
    }
   ],
   "source": [
    "# define input timeseries\n",
    "timeseries = np.array([[0.1, 0.2, 0.3, 0.4, 0.5, 0.6, 0.7, 0.8, 0.9],\n",
    "                       [0.1**3, 0.2**3, 0.3**3, 0.4**3, 0.5**3, 0.6**3, 0.7**3, 0.8**3, 0.9**3]]).transpose()\n",
    "\n",
    "timeseries.shape"
   ]
  },
  {
   "cell_type": "code",
   "execution_count": 6,
   "metadata": {},
   "outputs": [
    {
     "data": {
      "text/plain": [
       "(5, 3, 2)"
      ]
     },
     "execution_count": 6,
     "metadata": {},
     "output_type": "execute_result"
    }
   ],
   "source": [
    "timesteps = 3\n",
    "n_features = 2\n",
    "X, y = temporalize(X = timeseries, y = np.zeros(len(timeseries)), timesteps = timesteps)\n",
    "\n",
    "X = np.array(X)\n",
    "X = X.reshape(X.shape[0], timesteps, n_features)\n",
    "\n",
    "X.shape\n",
    "# n_samples, timesteps, features"
   ]
  },
  {
   "cell_type": "code",
   "execution_count": 7,
   "metadata": {},
   "outputs": [],
   "source": [
    "e = Encoder(lstm_units=[32,16,8])\n",
    "x_enc = e(X)"
   ]
  },
  {
   "cell_type": "code",
   "execution_count": 8,
   "metadata": {},
   "outputs": [
    {
     "data": {
      "text/plain": [
       "TensorShape([5, 3, 2])"
      ]
     },
     "execution_count": 8,
     "metadata": {},
     "output_type": "execute_result"
    }
   ],
   "source": [
    "d = Decoder(features=X.shape[-1], timesteps=X.shape[1],lstm_units=[8,16,32])\n",
    "d(x_enc).shape"
   ]
  },
  {
   "cell_type": "code",
   "execution_count": 9,
   "metadata": {},
   "outputs": [
    {
     "data": {
      "text/plain": [
       "<tf.Tensor: shape=(5, 3, 2), dtype=float32, numpy=\n",
       "array([[[-2.4575529e-06,  2.8456268e-06],\n",
       "        [-7.9179736e-06,  9.2792452e-06],\n",
       "        [-1.6155456e-05,  1.8854367e-05]],\n",
       "\n",
       "       [[-3.3378296e-06,  3.9427014e-06],\n",
       "        [-1.0763566e-05,  1.2850605e-05],\n",
       "        [-2.1986636e-05,  2.6098534e-05]],\n",
       "\n",
       "       [[-4.3179398e-06,  5.3138829e-06],\n",
       "        [-1.3938444e-05,  1.7295679e-05],\n",
       "        [-2.8518702e-05,  3.5074321e-05]],\n",
       "\n",
       "       [[-5.4828661e-06,  7.0266615e-06],\n",
       "        [-1.7743152e-05,  2.2853275e-05],\n",
       "        [-3.6413767e-05,  4.6306479e-05]],\n",
       "\n",
       "       [[-7.0873630e-06,  9.2569599e-06],\n",
       "        [-2.3039442e-05,  3.0128760e-05],\n",
       "        [-4.7500616e-05,  6.1089595e-05]]], dtype=float32)>"
      ]
     },
     "execution_count": 9,
     "metadata": {},
     "output_type": "execute_result"
    }
   ],
   "source": [
    "ed = EncoderDecoder(features=X.shape[-1], timesteps=X.shape[1], lstm_units=[32,16,8])\n",
    "ed(X)"
   ]
  },
  {
   "cell_type": "code",
   "execution_count": null,
   "metadata": {},
   "outputs": [],
   "source": [
    "\n"
   ]
  }
 ],
 "metadata": {
  "kernelspec": {
   "display_name": "Python 3.8.13 ('python38')",
   "language": "python",
   "name": "python3"
  },
  "language_info": {
   "codemirror_mode": {
    "name": "ipython",
    "version": 3
   },
   "file_extension": ".py",
   "mimetype": "text/x-python",
   "name": "python",
   "nbconvert_exporter": "python",
   "pygments_lexer": "ipython3",
   "version": "3.8.13"
  },
  "orig_nbformat": 4,
  "vscode": {
   "interpreter": {
    "hash": "2c486376ded516fafe091783a6c70b600e9bfb5824ad41de96f5bf0836d62937"
   }
  }
 },
 "nbformat": 4,
 "nbformat_minor": 2
}
